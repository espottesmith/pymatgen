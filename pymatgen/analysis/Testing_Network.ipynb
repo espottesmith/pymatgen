{
 "cells": [
  {
   "cell_type": "code",
   "execution_count": 53,
   "metadata": {},
   "outputs": [],
   "source": [
    "import os\n",
    "import unittest\n",
    "import time\n",
    "from pymatgen.core.structure import Molecule\n",
    "from pymatgen.analysis.graphs import MoleculeGraph\n",
    "from pymatgen.analysis.local_env import OpenBabelNN\n",
    "from pymatgen.util.testing import PymatgenTest\n",
    "from pymatgen.analysis.reaction_network import ReactionNetwork\n",
    "from pymatgen.entries.mol_entry import MoleculeEntry\n",
    "from monty.serialization import loadfn\n",
    "import openbabel as ob\n",
    "import networkx as nx"
   ]
  },
  {
   "cell_type": "code",
   "execution_count": 54,
   "metadata": {},
   "outputs": [],
   "source": [
    "from crystal_toolkit import view"
   ]
  },
  {
   "cell_type": "code",
   "execution_count": 55,
   "metadata": {},
   "outputs": [],
   "source": [
    "LiEC_extended_entries = []\n",
    "entries = loadfn(\"/Users/samuelblau/pymatgen/test_files/reaction_network_files/LiEC_extended_entries.json\")\n",
    "for entry in entries:\n",
    "    mol = entry[\"output\"][\"optimized_molecule\"]\n",
    "    E = float(entry[\"output\"][\"final_energy\"])\n",
    "    H = float(entry[\"output\"][\"enthalpy\"])\n",
    "    S = float(entry[\"output\"][\"entropy\"])\n",
    "    mol_entry = MoleculeEntry(molecule=mol,energy=E,enthalpy=H,entropy=S,entry_id=entry[\"task_id\"])\n",
    "    LiEC_extended_entries.append(mol_entry)"
   ]
  },
  {
   "cell_type": "code",
   "execution_count": 56,
   "metadata": {},
   "outputs": [
    {
     "name": "stdout",
     "output_type": "stream",
     "text": [
      "330 total entries\n",
      "WARNING: Free energy lower but electronic energy higher!\n",
      "WARNING: Free energy lower but electronic energy higher!\n",
      "WARNING: Free energy lower but electronic energy higher!\n",
      "WARNING: Free energy lower but electronic energy higher!\n",
      "WARNING: Free energy lower but electronic energy higher!\n",
      "WARNING: Free energy lower but electronic energy higher!\n",
      "WARNING: Free energy lower but electronic energy higher!\n",
      "WARNING: Free energy lower but electronic energy higher!\n",
      "WARNING: Free energy lower but electronic energy higher!\n",
      "252 unique entries\n",
      "Before reactions\n",
      "252 nodes\n",
      "0 edges\n",
      "\n",
      "After 1e redox\n",
      "490 nodes\n",
      "476 edges\n",
      "\n",
      "After intramol single bond change\n",
      "566 nodes\n",
      "628 edges\n",
      "\n",
      "After intermol single bond change\n",
      "1542 nodes\n",
      "3546 edges\n",
      "\n"
     ]
    }
   ],
   "source": [
    "RN = ReactionNetwork(LiEC_extended_entries)"
   ]
  },
  {
   "cell_type": "code",
   "execution_count": 5,
   "metadata": {},
   "outputs": [
    {
     "data": {
      "application/vnd.jupyter.widget-view+json": {
       "model_id": "9fba35125b274ec6905d52cc26b11b12",
       "version_major": 2,
       "version_minor": 0
      },
      "text/plain": [
       "Renderer(background='white', camera=OrthographicCamera(bottom=-5.6984556159599995, left=-5.6984556159599995, n…"
      ]
     },
     "metadata": {},
     "output_type": "display_data"
    },
    {
     "data": {
      "text/plain": [
       "MoleculeEntry 115880 - C3 H4 Li1 O3 - E12 - C1\n",
       "Energy = -349.8831 Hartree\n",
       "Correction = 0.0000 Hartree\n",
       "Enthalpy = 53.5210 kcal/mol\n",
       "Entropy = 81.5760 cal/mol.K\n",
       "Free Energy = -9519.5387 eV\n",
       "Parameters:\n",
       "ind = 221"
      ]
     },
     "execution_count": 5,
     "metadata": {},
     "output_type": "execute_result"
    }
   ],
   "source": [
    "view(RN.entries[\"C3 H4 Li1 O3\"][12][1][0].molecule,bonding_strategy=\"OpenBabelNN\")\n",
    "RN.entries[\"C3 H4 Li1 O3\"][12][1][0]"
   ]
  },
  {
   "cell_type": "code",
   "execution_count": 6,
   "metadata": {},
   "outputs": [
    {
     "name": "stdout",
     "output_type": "stream",
     "text": [
      "221,220\n",
      "rxn_type : one_electron_reduction\n",
      "bipartite : 1\n",
      "energy : -0.07843445247800673\n",
      "free_energy : -2.169687602419799\n",
      "\n"
     ]
    }
   ],
   "source": [
    "for neighbor in list(RN.graph.neighbors(221)):\n",
    "    print(neighbor)\n",
    "    for key in RN.graph.node[neighbor]:\n",
    "        print(key,\":\",RN.graph.node[neighbor][key])\n",
    "    print()"
   ]
  },
  {
   "cell_type": "code",
   "execution_count": 7,
   "metadata": {},
   "outputs": [
    {
     "data": {
      "application/vnd.jupyter.widget-view+json": {
       "model_id": "445c9477a7c04dfabbb1657040cb219b",
       "version_major": 2,
       "version_minor": 0
      },
      "text/plain": [
       "Renderer(background='white', camera=OrthographicCamera(bottom=-5.164007155319999, left=-5.164007155319999, nea…"
      ]
     },
     "metadata": {},
     "output_type": "display_data"
    },
    {
     "data": {
      "text/plain": [
       "0"
      ]
     },
     "execution_count": 7,
     "metadata": {},
     "output_type": "execute_result"
    }
   ],
   "source": [
    "view(RN.entries_list[220].molecule,bonding_strategy=\"OpenBabelNN\")\n",
    "RN.entries_list[220].charge"
   ]
  },
  {
   "cell_type": "code",
   "execution_count": 8,
   "metadata": {},
   "outputs": [
    {
     "name": "stdout",
     "output_type": "stream",
     "text": [
      "220,221\n",
      "rxn_type : one_electron_oxidation\n",
      "bipartite : 1\n",
      "energy : 0.07843445247800673\n",
      "free_energy : 2.169687602419799\n",
      "\n",
      "220,219\n",
      "rxn_type : intramol_single_bond_breakage\n",
      "bipartite : 1\n",
      "energy : -0.03746218086303088\n",
      "free_energy : -1.1988151561727136\n",
      "\n"
     ]
    }
   ],
   "source": [
    "for neighbor in list(RN.graph.neighbors(220)):\n",
    "    print(neighbor)\n",
    "    for key in RN.graph.node[neighbor]:\n",
    "        print(key,\":\",RN.graph.node[neighbor][key])\n",
    "    print()"
   ]
  },
  {
   "cell_type": "code",
   "execution_count": 9,
   "metadata": {},
   "outputs": [
    {
     "data": {
      "application/vnd.jupyter.widget-view+json": {
       "model_id": "911cdcff576e456b90a8fa003f7f02e2",
       "version_major": 2,
       "version_minor": 0
      },
      "text/plain": [
       "Renderer(background='white', camera=OrthographicCamera(bottom=-6.7520014130399995, left=-6.7520014130399995, n…"
      ]
     },
     "metadata": {},
     "output_type": "display_data"
    },
    {
     "data": {
      "text/plain": [
       "0"
      ]
     },
     "execution_count": 9,
     "metadata": {},
     "output_type": "execute_result"
    }
   ],
   "source": [
    "view(RN.entries_list[219].molecule,bonding_strategy=\"OpenBabelNN\")\n",
    "RN.entries_list[219].charge"
   ]
  },
  {
   "cell_type": "code",
   "execution_count": 10,
   "metadata": {
    "scrolled": false
   },
   "outputs": [
    {
     "name": "stdout",
     "output_type": "stream",
     "text": [
      "219,218\n",
      "rxn_type : one_electron_reduction\n",
      "bipartite : 1\n",
      "energy : -0.10700326433396867\n",
      "free_energy : -2.9053784799398272\n",
      "\n",
      "219,220\n",
      "rxn_type : intramol_single_bond_formation\n",
      "bipartite : 1\n",
      "energy : 0.03746218086303088\n",
      "free_energy : 1.1988151561727136\n",
      "\n",
      "219,26+120\n",
      "rxn_type : Molecular decomposition breaking one bond: A->B+C\n",
      "bipartite : 1\n",
      "energy : 0.12262937153201392\n",
      "free_energy : 2.748628039684263\n",
      "\n",
      "219,27+119\n",
      "rxn_type : Molecular decomposition breaking one bond: A->B+C\n",
      "bipartite : 1\n",
      "energy : 0.03514357447528482\n",
      "free_energy : 0.36044270861384575\n",
      "\n",
      "219,12+85\n",
      "rxn_type : Molecular decomposition breaking one bond: A->B+C\n",
      "bipartite : 1\n",
      "energy : 0.32784811307334394\n",
      "free_energy : 8.187117081153701\n",
      "\n",
      "219,11+87\n",
      "rxn_type : Molecular decomposition breaking one bond: A->B+C\n",
      "bipartite : 1\n",
      "energy : 0.18139776248142425\n",
      "free_energy : 4.205527752190392\n",
      "\n",
      "219,10+89\n",
      "rxn_type : Molecular decomposition breaking one bond: A->B+C\n",
      "bipartite : 1\n",
      "energy : 0.21144497289822084\n",
      "free_energy : 5.007263512266945\n",
      "\n",
      "26+219,245\n",
      "rxn_type : Molecular formation from one new bond: A+B -> C\n",
      "bipartite : 1\n",
      "energy : 0.02353589682797974\n",
      "free_energy : 1.3679291952785206\n",
      "\n",
      "27+219,246\n",
      "rxn_type : Molecular formation from one new bond: A+B -> C\n",
      "bipartite : 1\n",
      "energy : -0.14237749660492227\n",
      "free_energy : -3.055095078568229\n",
      "\n",
      "219+219,248\n",
      "rxn_type : Molecular formation from one new bond: A+B -> C\n",
      "bipartite : 1\n",
      "energy : -0.15633255828902293\n",
      "free_energy : -3.382742747609882\n",
      "\n"
     ]
    }
   ],
   "source": [
    "for neighbor in list(RN.graph.neighbors(219)):\n",
    "    print(neighbor)\n",
    "    for key in RN.graph.node[neighbor]:\n",
    "        print(key,\":\",RN.graph.node[neighbor][key])\n",
    "    print()"
   ]
  },
  {
   "cell_type": "code",
   "execution_count": 11,
   "metadata": {},
   "outputs": [
    {
     "data": {
      "application/vnd.jupyter.widget-view+json": {
       "model_id": "258d26514f8945cbb789c395991c45bb",
       "version_major": 2,
       "version_minor": 0
      },
      "text/plain": [
       "Renderer(background='white', camera=OrthographicCamera(bottom=-7.18941198384, left=-7.18941198384, near=-2000.…"
      ]
     },
     "metadata": {},
     "output_type": "display_data"
    },
    {
     "data": {
      "text/plain": [
       "-1"
      ]
     },
     "execution_count": 11,
     "metadata": {},
     "output_type": "execute_result"
    }
   ],
   "source": [
    "view(RN.entries_list[218].molecule,bonding_strategy=\"OpenBabelNN\")\n",
    "RN.entries_list[218].charge"
   ]
  },
  {
   "cell_type": "code",
   "execution_count": 12,
   "metadata": {},
   "outputs": [
    {
     "name": "stdout",
     "output_type": "stream",
     "text": [
      "218,219\n",
      "rxn_type : one_electron_oxidation\n",
      "bipartite : 1\n",
      "energy : 0.10700326433396867\n",
      "free_energy : 2.9053784799398272\n",
      "\n",
      "218,10+87\n",
      "rxn_type : Molecular decomposition breaking one bond: A->B+C\n",
      "bipartite : 1\n",
      "energy : 0.15015395331317904\n",
      "free_energy : 3.330511119633229\n",
      "\n",
      "218,11+85\n",
      "rxn_type : Molecular decomposition breaking one bond: A->B+C\n",
      "bipartite : 1\n",
      "energy : 0.19501205221041573\n",
      "free_energy : 4.5662127215728106\n",
      "\n",
      "218,27+118\n",
      "rxn_type : Molecular decomposition breaking one bond: A->B+C\n",
      "bipartite : 1\n",
      "energy : 0.118908146099443\n",
      "free_energy : 2.4039168018844066\n",
      "\n",
      "218,26+119\n",
      "rxn_type : Molecular decomposition breaking one bond: A->B+C\n",
      "bipartite : 1\n",
      "energy : -0.039454803968737906\n",
      "free_energy : -1.6112176416409056\n",
      "\n",
      "27+218,245\n",
      "rxn_type : Molecular formation from one new bond: A+B -> C\n",
      "bipartite : 1\n",
      "energy : -0.05106248161604299\n",
      "free_energy : -0.6037311549762308\n",
      "\n"
     ]
    }
   ],
   "source": [
    "for neighbor in list(RN.graph.neighbors(218)):\n",
    "    print(neighbor)\n",
    "    for key in RN.graph.node[neighbor]:\n",
    "        print(key,\":\",RN.graph.node[neighbor][key])\n",
    "    print()"
   ]
  },
  {
   "cell_type": "code",
   "execution_count": 81,
   "metadata": {},
   "outputs": [
    {
     "data": {
      "application/vnd.jupyter.widget-view+json": {
       "model_id": "0384eed6664047d49e3c22fa0688867d",
       "version_major": 2,
       "version_minor": 0
      },
      "text/plain": [
       "Renderer(background='white', camera=OrthographicCamera(bottom=-2.26998221796, left=-2.26998221796, near=-2000.…"
      ]
     },
     "metadata": {},
     "output_type": "display_data"
    },
    {
     "data": {
      "text/plain": [
       "1"
      ]
     },
     "execution_count": 81,
     "metadata": {},
     "output_type": "execute_result"
    }
   ],
   "source": [
    "ind=70\n",
    "view(RN.entries_list[ind].molecule,bonding_strategy=\"OpenBabelNN\")\n",
    "RN.entries_list[ind].charge"
   ]
  },
  {
   "cell_type": "code",
   "execution_count": 48,
   "metadata": {},
   "outputs": [
    {
     "data": {
      "application/vnd.jupyter.widget-view+json": {
       "model_id": "8b42e3baaff74effbd6b6d84732f389d",
       "version_major": 2,
       "version_minor": 0
      },
      "text/plain": [
       "Renderer(background='white', camera=OrthographicCamera(bottom=-5.536899364080001, left=-5.536899364080001, nea…"
      ]
     },
     "metadata": {},
     "output_type": "display_data"
    },
    {
     "data": {
      "text/plain": [
       "0"
      ]
     },
     "execution_count": 48,
     "metadata": {},
     "output_type": "execute_result"
    }
   ],
   "source": [
    "ind=87\n",
    "view(RN.entries_list[ind].molecule,bonding_strategy=\"OpenBabelNN\")\n",
    "RN.entries_list[ind].charge"
   ]
  },
  {
   "cell_type": "code",
   "execution_count": 15,
   "metadata": {},
   "outputs": [
    {
     "data": {
      "application/vnd.jupyter.widget-view+json": {
       "model_id": "11cf5486698e4d44a6bd7f193fd9703c",
       "version_major": 2,
       "version_minor": 0
      },
      "text/plain": [
       "Renderer(background='white', camera=OrthographicCamera(bottom=-3.04935337968, left=-3.04935337968, near=-2000.…"
      ]
     },
     "metadata": {},
     "output_type": "display_data"
    },
    {
     "data": {
      "text/plain": [
       "0"
      ]
     },
     "execution_count": 15,
     "metadata": {},
     "output_type": "execute_result"
    }
   ],
   "source": [
    "view(RN.entries_list[27].molecule,bonding_strategy=\"OpenBabelNN\")\n",
    "RN.entries_list[27].charge"
   ]
  },
  {
   "cell_type": "code",
   "execution_count": 51,
   "metadata": {},
   "outputs": [
    {
     "data": {
      "application/vnd.jupyter.widget-view+json": {
       "model_id": "79245555361545a9829d5b63e599987d",
       "version_major": 2,
       "version_minor": 0
      },
      "text/plain": [
       "Renderer(background='white', camera=OrthographicCamera(bottom=-12.12831622872, left=-12.12831622872, near=-200…"
      ]
     },
     "metadata": {},
     "output_type": "display_data"
    },
    {
     "data": {
      "text/plain": [
       "0"
      ]
     },
     "execution_count": 51,
     "metadata": {},
     "output_type": "execute_result"
    }
   ],
   "source": [
    "view(RN.entries_list[248].molecule,bonding_strategy=\"OpenBabelNN\")\n",
    "RN.entries_list[248].charge"
   ]
  },
  {
   "cell_type": "code",
   "execution_count": 47,
   "metadata": {},
   "outputs": [
    {
     "name": "stdout",
     "output_type": "stream",
     "text": [
      "119,118\n",
      "rxn_type : one_electron_reduction\n",
      "bipartite : 1\n",
      "energy : -0.023238692709796283\n",
      "free_energy : -0.8619043866692664\n",
      "\n",
      "119,120\n",
      "rxn_type : one_electron_oxidation\n",
      "bipartite : 1\n",
      "energy : 0.2690874398347063\n",
      "free_energy : 7.26522416126636\n",
      "\n",
      "119,10+12\n",
      "rxn_type : Molecular decomposition breaking one bond: A->B+C\n",
      "bipartite : 1\n",
      "energy : 0.4202399331801985\n",
      "free_energy : 10.554938052812304\n",
      "\n",
      "119,11+11\n",
      "rxn_type : Molecular decomposition breaking one bond: A->B+C\n",
      "bipartite : 1\n",
      "energy : 0.31864768148550127\n",
      "free_energy : 7.809050325788576\n",
      "\n",
      "119+249,121\n",
      "rxn_type : Molecular formation from one new bond: A+B -> C\n",
      "bipartite : 1\n",
      "energy : -0.056281721076800295\n",
      "free_energy : -1.1155573229125366\n",
      "\n",
      "119+250,122\n",
      "rxn_type : Molecular formation from one new bond: A+B -> C\n",
      "bipartite : 1\n",
      "energy : -0.04411217945269641\n",
      "free_energy : -0.8553620351958671\n",
      "\n",
      "21+119,211\n",
      "rxn_type : Molecular formation from one new bond: A+B -> C\n",
      "bipartite : 1\n",
      "energy : 0.03759273613670189\n",
      "free_energy : 1.5622929855844632\n",
      "\n",
      "22+119,212\n",
      "rxn_type : Molecular formation from one new bond: A+B -> C\n",
      "bipartite : 1\n",
      "energy : 0.04647651318569501\n",
      "free_energy : 1.7912510788783038\n",
      "\n",
      "24+119,213\n",
      "rxn_type : Molecular formation from one new bond: A+B -> C\n",
      "bipartite : 1\n",
      "energy : 0.026440387703729584\n",
      "free_energy : 1.290956702350286\n",
      "\n",
      "25+119,214\n",
      "rxn_type : Molecular formation from one new bond: A+B -> C\n",
      "bipartite : 1\n",
      "energy : 0.048804545293705814\n",
      "free_energy : 1.7798946519528727\n",
      "\n",
      "26+119,218\n",
      "rxn_type : Molecular formation from one new bond: A+B -> C\n",
      "bipartite : 1\n",
      "energy : 0.039454803968737906\n",
      "free_energy : 1.6112176416418151\n",
      "\n",
      "27+119,219\n",
      "rxn_type : Molecular formation from one new bond: A+B -> C\n",
      "bipartite : 1\n",
      "energy : -0.03514357447528482\n",
      "free_energy : -0.360442708613391\n",
      "\n",
      "31+119,222\n",
      "rxn_type : Molecular formation from one new bond: A+B -> C\n",
      "bipartite : 1\n",
      "energy : 0.060511065763705574\n",
      "free_energy : 2.1287736771764685\n",
      "\n",
      "34+119,226\n",
      "rxn_type : Molecular formation from one new bond: A+B -> C\n",
      "bipartite : 1\n",
      "energy : -0.01629694132827808\n",
      "free_energy : 0.1058493617001659\n",
      "\n"
     ]
    }
   ],
   "source": [
    "for neighbor in list(RN.graph.neighbors(119)):\n",
    "    print(neighbor)\n",
    "    for key in RN.graph.node[neighbor]:\n",
    "        print(key,\":\",RN.graph.node[neighbor][key])\n",
    "    print()"
   ]
  },
  {
   "cell_type": "code",
   "execution_count": 50,
   "metadata": {},
   "outputs": [
    {
     "data": {
      "application/vnd.jupyter.widget-view+json": {
       "model_id": "3320eae3593f4170b51a7af1f6b043e3",
       "version_major": 2,
       "version_minor": 0
      },
      "text/plain": [
       "Renderer(background='white', camera=OrthographicCamera(bottom=-3.04935337968, left=-3.04935337968, near=-2000.…"
      ]
     },
     "metadata": {},
     "output_type": "display_data"
    },
    {
     "name": "stdout",
     "output_type": "stream",
     "text": [
      "27 0\n"
     ]
    },
    {
     "data": {
      "application/vnd.jupyter.widget-view+json": {
       "model_id": "f2f59ab8c12b4f42ba5175f90548ad38",
       "version_major": 2,
       "version_minor": 0
      },
      "text/plain": [
       "Renderer(background='white', camera=OrthographicCamera(bottom=-6.7520014130399995, left=-6.7520014130399995, n…"
      ]
     },
     "metadata": {},
     "output_type": "display_data"
    },
    {
     "name": "stdout",
     "output_type": "stream",
     "text": [
      "219 0\n"
     ]
    },
    {
     "data": {
      "application/vnd.jupyter.widget-view+json": {
       "model_id": "9c2e59e14f3b4147bb6dd073dde525a6",
       "version_major": 2,
       "version_minor": 0
      },
      "text/plain": [
       "Renderer(background='white', camera=OrthographicCamera(bottom=-5.76610607112, left=-5.76610607112, near=-2000.…"
      ]
     },
     "metadata": {},
     "output_type": "display_data"
    },
    {
     "name": "stdout",
     "output_type": "stream",
     "text": [
      "89 1\n"
     ]
    },
    {
     "data": {
      "application/vnd.jupyter.widget-view+json": {
       "model_id": "d0b3ad9f79d94cd9a1db0d385cf0db85",
       "version_major": 2,
       "version_minor": 0
      },
      "text/plain": [
       "Renderer(background='white', camera=OrthographicCamera(bottom=-4.78436802732, left=-4.78436802732, near=-2000.…"
      ]
     },
     "metadata": {},
     "output_type": "display_data"
    },
    {
     "name": "stdout",
     "output_type": "stream",
     "text": [
      "85 -1\n"
     ]
    },
    {
     "data": {
      "application/vnd.jupyter.widget-view+json": {
       "model_id": "cb30ff87cc214978a1b1659d3bca42f8",
       "version_major": 2,
       "version_minor": 0
      },
      "text/plain": [
       "Renderer(background='white', camera=OrthographicCamera(bottom=-3.2421475638, left=-3.2421475638, near=-2000.0,…"
      ]
     },
     "metadata": {},
     "output_type": "display_data"
    },
    {
     "name": "stdout",
     "output_type": "stream",
     "text": [
      "26 -1\n"
     ]
    },
    {
     "data": {
      "application/vnd.jupyter.widget-view+json": {
       "model_id": "dddb695b5a804816aeb38801502efdb7",
       "version_major": 2,
       "version_minor": 0
      },
      "text/plain": [
       "Renderer(background='white', camera=OrthographicCamera(bottom=-2.0626327867199996, left=-2.0626327867199996, n…"
      ]
     },
     "metadata": {},
     "output_type": "display_data"
    },
    {
     "name": "stdout",
     "output_type": "stream",
     "text": [
      "10 -1\n"
     ]
    },
    {
     "data": {
      "application/vnd.jupyter.widget-view+json": {
       "model_id": "95b1705537f145e78226d194694986ae",
       "version_major": 2,
       "version_minor": 0
      },
      "text/plain": [
       "Renderer(background='white', camera=OrthographicCamera(bottom=-2.4563684119199998, left=-2.4563684119199998, n…"
      ]
     },
     "metadata": {},
     "output_type": "display_data"
    },
    {
     "name": "stdout",
     "output_type": "stream",
     "text": [
      "12 1\n"
     ]
    },
    {
     "data": {
      "application/vnd.jupyter.widget-view+json": {
       "model_id": "6e8023ac8b04458e86190615fac9e29c",
       "version_major": 2,
       "version_minor": 0
      },
      "text/plain": [
       "Renderer(background='white', camera=OrthographicCamera(bottom=-2.05558026744, left=-2.05558026744, near=-2000.…"
      ]
     },
     "metadata": {},
     "output_type": "display_data"
    },
    {
     "name": "stdout",
     "output_type": "stream",
     "text": [
      "11 0\n"
     ]
    },
    {
     "data": {
      "application/vnd.jupyter.widget-view+json": {
       "model_id": "6d3036df300941d2bfe0680531d08d64",
       "version_major": 2,
       "version_minor": 0
      },
      "text/plain": [
       "Renderer(background='white', camera=OrthographicCamera(bottom=-1.0311643118399998, left=-1.0311643118399998, n…"
      ]
     },
     "metadata": {},
     "output_type": "display_data"
    },
    {
     "name": "stdout",
     "output_type": "stream",
     "text": [
      "2 1\n"
     ]
    },
    {
     "data": {
      "application/vnd.jupyter.widget-view+json": {
       "model_id": "36979c7ae3ea4fb28d4ce8cb4611d14b",
       "version_major": 2,
       "version_minor": 0
      },
      "text/plain": [
       "Renderer(background='white', camera=OrthographicCamera(bottom=-2.31182833152, left=-2.31182833152, near=-2000.…"
      ]
     },
     "metadata": {},
     "output_type": "display_data"
    },
    {
     "name": "stdout",
     "output_type": "stream",
     "text": [
      "18 1\n"
     ]
    },
    {
     "data": {
      "application/vnd.jupyter.widget-view+json": {
       "model_id": "4727aa901bd1403e96743b45bd23724d",
       "version_major": 2,
       "version_minor": 0
      },
      "text/plain": [
       "Renderer(background='white', camera=OrthographicCamera(bottom=-2.4544077762, left=-2.4544077762, near=-2000.0,…"
      ]
     },
     "metadata": {},
     "output_type": "display_data"
    },
    {
     "name": "stdout",
     "output_type": "stream",
     "text": [
      "40 1\n"
     ]
    },
    {
     "data": {
      "application/vnd.jupyter.widget-view+json": {
       "model_id": "380bc2be4b284e9f88c7eb3a2e212e1a",
       "version_major": 2,
       "version_minor": 0
      },
      "text/plain": [
       "Renderer(background='white', camera=OrthographicCamera(bottom=-2.26998221796, left=-2.26998221796, near=-2000.…"
      ]
     },
     "metadata": {},
     "output_type": "display_data"
    },
    {
     "name": "stdout",
     "output_type": "stream",
     "text": [
      "70 1\n"
     ]
    }
   ],
   "source": [
    "to_view = [27, 219, 89, 85, 26, 10, 12, 11, 2, 18, 40, 70]\n",
    "\n",
    "for ind in to_view:\n",
    "    view(RN.entries_list[ind].molecule,bonding_strategy=\"OpenBabelNN\")\n",
    "    print(ind,RN.entries_list[ind].charge)"
   ]
  },
  {
   "cell_type": "code",
   "execution_count": null,
   "metadata": {},
   "outputs": [],
   "source": []
  }
 ],
 "metadata": {
  "kernelspec": {
   "display_name": "Python 3",
   "language": "python",
   "name": "python3"
  },
  "language_info": {
   "codemirror_mode": {
    "name": "ipython",
    "version": 3
   },
   "file_extension": ".py",
   "mimetype": "text/x-python",
   "name": "python",
   "nbconvert_exporter": "python",
   "pygments_lexer": "ipython3",
   "version": "3.7.3"
  }
 },
 "nbformat": 4,
 "nbformat_minor": 2
}
