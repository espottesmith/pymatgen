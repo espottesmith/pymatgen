{
 "cells": [
  {
   "cell_type": "code",
   "execution_count": 1,
   "metadata": {},
   "outputs": [],
   "source": [
    "import os\n",
    "import unittest\n",
    "import time\n",
    "from pymatgen.core.structure import Molecule\n",
    "from pymatgen.analysis.graphs import MoleculeGraph\n",
    "from pymatgen.analysis.local_env import OpenBabelNN\n",
    "from pymatgen.util.testing import PymatgenTest\n",
    "from pymatgen.analysis.reaction_network import ReactionNetwork\n",
    "from pymatgen.entries.mol_entry import MoleculeEntry\n",
    "from monty.serialization import loadfn\n",
    "import openbabel as ob\n",
    "import networkx as nx"
   ]
  },
  {
   "cell_type": "code",
   "execution_count": 2,
   "metadata": {},
   "outputs": [],
   "source": [
    "from crystal_toolkit import view"
   ]
  },
  {
   "cell_type": "code",
   "execution_count": 3,
   "metadata": {},
   "outputs": [],
   "source": [
    "LiEC_extended_entries = []\n",
    "entries = loadfn(\"/Users/samuelblau/pymatgen/test_files/reaction_network_files/LiEC_extended_entries.json\")\n",
    "for entry in entries:\n",
    "    mol = entry[\"output\"][\"optimized_molecule\"]\n",
    "    E = float(entry[\"output\"][\"final_energy\"])\n",
    "    H = float(entry[\"output\"][\"enthalpy\"])\n",
    "    S = float(entry[\"output\"][\"entropy\"])\n",
    "    mol_entry = MoleculeEntry(molecule=mol,energy=E,enthalpy=H,entropy=S,entry_id=entry[\"task_id\"])\n",
    "    LiEC_extended_entries.append(mol_entry)"
   ]
  },
  {
   "cell_type": "code",
   "execution_count": 4,
   "metadata": {},
   "outputs": [
    {
     "name": "stdout",
     "output_type": "stream",
     "text": [
      "330 total entries\n",
      "WARNING: Free energy lower but electronic energy higher!\n",
      "WARNING: Free energy lower but electronic energy higher!\n",
      "WARNING: Free energy lower but electronic energy higher!\n",
      "WARNING: Free energy lower but electronic energy higher!\n",
      "WARNING: Free energy lower but electronic energy higher!\n",
      "WARNING: Free energy lower but electronic energy higher!\n",
      "WARNING: Free energy lower but electronic energy higher!\n",
      "WARNING: Free energy lower but electronic energy higher!\n",
      "WARNING: Free energy lower but electronic energy higher!\n",
      "252 unique entries\n"
     ]
    }
   ],
   "source": [
    "RN = ReactionNetwork(LiEC_extended_entries)"
   ]
  },
  {
   "cell_type": "code",
   "execution_count": 5,
   "metadata": {},
   "outputs": [
    {
     "data": {
      "application/vnd.jupyter.widget-view+json": {
       "model_id": "e1bf114393e54a0780fb4280d664c008",
       "version_major": 2,
       "version_minor": 0
      },
      "text/plain": [
       "Renderer(background='white', camera=OrthographicCamera(bottom=-5.6984556159599995, left=-5.6984556159599995, n…"
      ]
     },
     "metadata": {},
     "output_type": "display_data"
    },
    {
     "data": {
      "text/plain": [
       "MoleculeEntry 115880 - C3 H4 Li1 O3 - E12 - C1\n",
       "Energy = -349.8831 Hartree\n",
       "Correction = 0.0000 Hartree\n",
       "Enthalpy = 53.5210 kcal/mol\n",
       "Entropy = 81.5760 cal/mol.K\n",
       "Free Energy = -9519.5387 eV\n",
       "Parameters:\n",
       "ind = 221"
      ]
     },
     "execution_count": 5,
     "metadata": {},
     "output_type": "execute_result"
    }
   ],
   "source": [
    "view(RN.entries[\"C3 H4 Li1 O3\"][12][1][0].molecule,bonding_strategy=\"OpenBabelNN\")\n",
    "RN.entries[\"C3 H4 Li1 O3\"][12][1][0]"
   ]
  },
  {
   "cell_type": "code",
   "execution_count": 6,
   "metadata": {},
   "outputs": [
    {
     "name": "stdout",
     "output_type": "stream",
     "text": [
      "221,220\n",
      "rxn_type : One electron reduction\n",
      "bipartite : 1\n",
      "energy : -0.07843445247800673\n",
      "free_energy : -2.169687602419799\n",
      "\n"
     ]
    }
   ],
   "source": [
    "for neighbor in list(RN.graph.neighbors(221)):\n",
    "    print(neighbor)\n",
    "    for key in RN.graph.node[neighbor]:\n",
    "        print(key,\":\",RN.graph.node[neighbor][key])\n",
    "    print()"
   ]
  },
  {
   "cell_type": "code",
   "execution_count": 7,
   "metadata": {},
   "outputs": [
    {
     "data": {
      "application/vnd.jupyter.widget-view+json": {
       "model_id": "dc94f7fd618c47a18219d7674c281496",
       "version_major": 2,
       "version_minor": 0
      },
      "text/plain": [
       "Renderer(background='white', camera=OrthographicCamera(bottom=-5.164007155319999, left=-5.164007155319999, nea…"
      ]
     },
     "metadata": {},
     "output_type": "display_data"
    },
    {
     "data": {
      "text/plain": [
       "0"
      ]
     },
     "execution_count": 7,
     "metadata": {},
     "output_type": "execute_result"
    }
   ],
   "source": [
    "view(RN.entries_list[220].molecule,bonding_strategy=\"OpenBabelNN\")\n",
    "RN.entries_list[220].charge"
   ]
  },
  {
   "cell_type": "code",
   "execution_count": 8,
   "metadata": {},
   "outputs": [
    {
     "name": "stdout",
     "output_type": "stream",
     "text": [
      "220,221\n",
      "rxn_type : One electron oxidation\n",
      "bipartite : 1\n",
      "energy : 0.07843445247800673\n",
      "free_energy : 2.169687602419799\n",
      "\n",
      "220,219\n",
      "rxn_type : Intramolecular single bond breakage\n",
      "bipartite : 1\n",
      "energy : -0.03746218086303088\n",
      "free_energy : -1.1988151561727136\n",
      "\n"
     ]
    }
   ],
   "source": [
    "for neighbor in list(RN.graph.neighbors(220)):\n",
    "    print(neighbor)\n",
    "    for key in RN.graph.node[neighbor]:\n",
    "        print(key,\":\",RN.graph.node[neighbor][key])\n",
    "    print()"
   ]
  },
  {
   "cell_type": "code",
   "execution_count": 9,
   "metadata": {},
   "outputs": [
    {
     "data": {
      "application/vnd.jupyter.widget-view+json": {
       "model_id": "c210498ac8d94e5d9028191dcca41731",
       "version_major": 2,
       "version_minor": 0
      },
      "text/plain": [
       "Renderer(background='white', camera=OrthographicCamera(bottom=-6.7520014130399995, left=-6.7520014130399995, n…"
      ]
     },
     "metadata": {},
     "output_type": "display_data"
    },
    {
     "data": {
      "text/plain": [
       "0"
      ]
     },
     "execution_count": 9,
     "metadata": {},
     "output_type": "execute_result"
    }
   ],
   "source": [
    "view(RN.entries_list[219].molecule,bonding_strategy=\"OpenBabelNN\")\n",
    "RN.entries_list[219].charge"
   ]
  },
  {
   "cell_type": "code",
   "execution_count": 10,
   "metadata": {
    "scrolled": false
   },
   "outputs": [
    {
     "name": "stdout",
     "output_type": "stream",
     "text": [
      "219,218\n",
      "rxn_type : one_electron_reduction\n",
      "bipartite : 1\n",
      "energy : -0.10700326433396867\n",
      "free_energy : -2.9053784799398272\n",
      "\n",
      "219,220\n",
      "rxn_type : intramol_single_bond_formation\n",
      "bipartite : 1\n",
      "energy : 0.03746218086303088\n",
      "free_energy : 1.1988151561727136\n",
      "\n",
      "219,26+120\n",
      "rxn_type : Molecular decomposition breaking one bond: A->B+C\n",
      "bipartite : 1\n",
      "energy : 0.12262937153201392\n",
      "free_energy : 2.748628039684263\n",
      "\n",
      "219,27+119\n",
      "rxn_type : Molecular decomposition breaking one bond: A->B+C\n",
      "bipartite : 1\n",
      "energy : 0.03514357447528482\n",
      "free_energy : 0.36044270861384575\n",
      "\n",
      "219,12+85\n",
      "rxn_type : Molecular decomposition breaking one bond: A->B+C\n",
      "bipartite : 1\n",
      "energy : 0.32784811307334394\n",
      "free_energy : 8.187117081153701\n",
      "\n",
      "219,11+87\n",
      "rxn_type : Molecular decomposition breaking one bond: A->B+C\n",
      "bipartite : 1\n",
      "energy : 0.18139776248142425\n",
      "free_energy : 4.205527752190392\n",
      "\n",
      "219,10+89\n",
      "rxn_type : Molecular decomposition breaking one bond: A->B+C\n",
      "bipartite : 1\n",
      "energy : 0.21144497289822084\n",
      "free_energy : 5.007263512266945\n",
      "\n",
      "26+219,245\n",
      "rxn_type : Molecular formation from one new bond: A+B -> C\n",
      "bipartite : 1\n",
      "energy : 0.02353589682797974\n",
      "free_energy : 1.3679291952785206\n",
      "\n",
      "27+219,246\n",
      "rxn_type : Molecular formation from one new bond: A+B -> C\n",
      "bipartite : 1\n",
      "energy : -0.14237749660492227\n",
      "free_energy : -3.055095078568229\n",
      "\n",
      "219+219,248\n",
      "rxn_type : Molecular formation from one new bond: A+B -> C\n",
      "bipartite : 1\n",
      "energy : -0.15633255828902293\n",
      "free_energy : -3.382742747609882\n",
      "\n"
     ]
    }
   ],
   "source": [
    "for neighbor in list(RN.graph.neighbors(219)):\n",
    "    print(neighbor)\n",
    "    for key in RN.graph.node[neighbor]:\n",
    "        print(key,\":\",RN.graph.node[neighbor][key])\n",
    "    print()"
   ]
  },
  {
   "cell_type": "code",
   "execution_count": 11,
   "metadata": {},
   "outputs": [
    {
     "data": {
      "application/vnd.jupyter.widget-view+json": {
       "model_id": "258d26514f8945cbb789c395991c45bb",
       "version_major": 2,
       "version_minor": 0
      },
      "text/plain": [
       "Renderer(background='white', camera=OrthographicCamera(bottom=-7.18941198384, left=-7.18941198384, near=-2000.…"
      ]
     },
     "metadata": {},
     "output_type": "display_data"
    },
    {
     "data": {
      "text/plain": [
       "-1"
      ]
     },
     "execution_count": 11,
     "metadata": {},
     "output_type": "execute_result"
    }
   ],
   "source": [
    "view(RN.entries_list[218].molecule,bonding_strategy=\"OpenBabelNN\")\n",
    "RN.entries_list[218].charge"
   ]
  },
  {
   "cell_type": "code",
   "execution_count": 12,
   "metadata": {},
   "outputs": [
    {
     "name": "stdout",
     "output_type": "stream",
     "text": [
      "218,219\n",
      "rxn_type : one_electron_oxidation\n",
      "bipartite : 1\n",
      "energy : 0.10700326433396867\n",
      "free_energy : 2.9053784799398272\n",
      "\n",
      "218,10+87\n",
      "rxn_type : Molecular decomposition breaking one bond: A->B+C\n",
      "bipartite : 1\n",
      "energy : 0.15015395331317904\n",
      "free_energy : 3.330511119633229\n",
      "\n",
      "218,11+85\n",
      "rxn_type : Molecular decomposition breaking one bond: A->B+C\n",
      "bipartite : 1\n",
      "energy : 0.19501205221041573\n",
      "free_energy : 4.5662127215728106\n",
      "\n",
      "218,27+118\n",
      "rxn_type : Molecular decomposition breaking one bond: A->B+C\n",
      "bipartite : 1\n",
      "energy : 0.118908146099443\n",
      "free_energy : 2.4039168018844066\n",
      "\n",
      "218,26+119\n",
      "rxn_type : Molecular decomposition breaking one bond: A->B+C\n",
      "bipartite : 1\n",
      "energy : -0.039454803968737906\n",
      "free_energy : -1.6112176416409056\n",
      "\n",
      "27+218,245\n",
      "rxn_type : Molecular formation from one new bond: A+B -> C\n",
      "bipartite : 1\n",
      "energy : -0.05106248161604299\n",
      "free_energy : -0.6037311549762308\n",
      "\n"
     ]
    }
   ],
   "source": [
    "for neighbor in list(RN.graph.neighbors(218)):\n",
    "    print(neighbor)\n",
    "    for key in RN.graph.node[neighbor]:\n",
    "        print(key,\":\",RN.graph.node[neighbor][key])\n",
    "    print()"
   ]
  },
  {
   "cell_type": "code",
   "execution_count": 81,
   "metadata": {},
   "outputs": [
    {
     "data": {
      "application/vnd.jupyter.widget-view+json": {
       "model_id": "0384eed6664047d49e3c22fa0688867d",
       "version_major": 2,
       "version_minor": 0
      },
      "text/plain": [
       "Renderer(background='white', camera=OrthographicCamera(bottom=-2.26998221796, left=-2.26998221796, near=-2000.…"
      ]
     },
     "metadata": {},
     "output_type": "display_data"
    },
    {
     "data": {
      "text/plain": [
       "1"
      ]
     },
     "execution_count": 81,
     "metadata": {},
     "output_type": "execute_result"
    }
   ],
   "source": [
    "ind=70\n",
    "view(RN.entries_list[ind].molecule,bonding_strategy=\"OpenBabelNN\")\n",
    "RN.entries_list[ind].charge"
   ]
  },
  {
   "cell_type": "code",
   "execution_count": 48,
   "metadata": {},
   "outputs": [
    {
     "data": {
      "application/vnd.jupyter.widget-view+json": {
       "model_id": "8b42e3baaff74effbd6b6d84732f389d",
       "version_major": 2,
       "version_minor": 0
      },
      "text/plain": [
       "Renderer(background='white', camera=OrthographicCamera(bottom=-5.536899364080001, left=-5.536899364080001, nea…"
      ]
     },
     "metadata": {},
     "output_type": "display_data"
    },
    {
     "data": {
      "text/plain": [
       "0"
      ]
     },
     "execution_count": 48,
     "metadata": {},
     "output_type": "execute_result"
    }
   ],
   "source": [
    "ind=87\n",
    "view(RN.entries_list[ind].molecule,bonding_strategy=\"OpenBabelNN\")\n",
    "RN.entries_list[ind].charge"
   ]
  },
  {
   "cell_type": "code",
   "execution_count": 15,
   "metadata": {},
   "outputs": [
    {
     "data": {
      "application/vnd.jupyter.widget-view+json": {
       "model_id": "11cf5486698e4d44a6bd7f193fd9703c",
       "version_major": 2,
       "version_minor": 0
      },
      "text/plain": [
       "Renderer(background='white', camera=OrthographicCamera(bottom=-3.04935337968, left=-3.04935337968, near=-2000.…"
      ]
     },
     "metadata": {},
     "output_type": "display_data"
    },
    {
     "data": {
      "text/plain": [
       "0"
      ]
     },
     "execution_count": 15,
     "metadata": {},
     "output_type": "execute_result"
    }
   ],
   "source": [
    "view(RN.entries_list[27].molecule,bonding_strategy=\"OpenBabelNN\")\n",
    "RN.entries_list[27].charge"
   ]
  },
  {
   "cell_type": "code",
   "execution_count": 23,
   "metadata": {
    "scrolled": true
   },
   "outputs": [
    {
     "data": {
      "application/vnd.jupyter.widget-view+json": {
       "model_id": "65e4328ff8414e5683188b4efbb72360",
       "version_major": 2,
       "version_minor": 0
      },
      "text/plain": [
       "Renderer(background='white', camera=OrthographicCamera(bottom=-5.890315477560001, left=-5.890315477560001, nea…"
      ]
     },
     "metadata": {},
     "output_type": "display_data"
    },
    {
     "data": {
      "text/plain": [
       "-1"
      ]
     },
     "execution_count": 23,
     "metadata": {},
     "output_type": "execute_result"
    }
   ],
   "source": [
    "view(RN.entries_list[232].molecule,bonding_strategy=\"OpenBabelNN\")\n",
    "RN.entries_list[232].charge"
   ]
  },
  {
   "cell_type": "code",
   "execution_count": 21,
   "metadata": {},
   "outputs": [
    {
     "name": "stdout",
     "output_type": "stream",
     "text": [
      "246,245\n",
      "rxn_type : One electron reduction\n",
      "bipartite : 1\n",
      "energy : -0.01568824934508939\n",
      "free_energy : -0.45401455634782906\n",
      "\n",
      "246,27+219\n",
      "rxn_type : Molecular decomposition breaking one bond A->B+C\n",
      "bipartite : 1\n",
      "energy : 0.14237749660492227\n",
      "free_energy : 3.0550950785691384\n",
      "\n",
      "246,85+89\n",
      "rxn_type : Molecular decomposition breaking one bond A->B+C\n",
      "bipartite : 1\n",
      "energy : 0.2262870749210606\n",
      "free_energy : 5.334094910562271\n",
      "\n",
      "246,87+87\n",
      "rxn_type : Molecular decomposition breaking one bond A->B+C\n",
      "bipartite : 1\n",
      "energy : 0.15138176560697048\n",
      "free_energy : 3.2966575485479552\n",
      "\n"
     ]
    }
   ],
   "source": [
    "for neighbor in list(RN.graph.neighbors(246)):\n",
    "    print(neighbor)\n",
    "    for key in RN.graph.node[neighbor]:\n",
    "        print(key,\":\",RN.graph.node[neighbor][key])\n",
    "    print()"
   ]
  },
  {
   "cell_type": "code",
   "execution_count": 50,
   "metadata": {},
   "outputs": [
    {
     "data": {
      "application/vnd.jupyter.widget-view+json": {
       "model_id": "3320eae3593f4170b51a7af1f6b043e3",
       "version_major": 2,
       "version_minor": 0
      },
      "text/plain": [
       "Renderer(background='white', camera=OrthographicCamera(bottom=-3.04935337968, left=-3.04935337968, near=-2000.…"
      ]
     },
     "metadata": {},
     "output_type": "display_data"
    },
    {
     "name": "stdout",
     "output_type": "stream",
     "text": [
      "27 0\n"
     ]
    },
    {
     "data": {
      "application/vnd.jupyter.widget-view+json": {
       "model_id": "f2f59ab8c12b4f42ba5175f90548ad38",
       "version_major": 2,
       "version_minor": 0
      },
      "text/plain": [
       "Renderer(background='white', camera=OrthographicCamera(bottom=-6.7520014130399995, left=-6.7520014130399995, n…"
      ]
     },
     "metadata": {},
     "output_type": "display_data"
    },
    {
     "name": "stdout",
     "output_type": "stream",
     "text": [
      "219 0\n"
     ]
    },
    {
     "data": {
      "application/vnd.jupyter.widget-view+json": {
       "model_id": "9c2e59e14f3b4147bb6dd073dde525a6",
       "version_major": 2,
       "version_minor": 0
      },
      "text/plain": [
       "Renderer(background='white', camera=OrthographicCamera(bottom=-5.76610607112, left=-5.76610607112, near=-2000.…"
      ]
     },
     "metadata": {},
     "output_type": "display_data"
    },
    {
     "name": "stdout",
     "output_type": "stream",
     "text": [
      "89 1\n"
     ]
    },
    {
     "data": {
      "application/vnd.jupyter.widget-view+json": {
       "model_id": "d0b3ad9f79d94cd9a1db0d385cf0db85",
       "version_major": 2,
       "version_minor": 0
      },
      "text/plain": [
       "Renderer(background='white', camera=OrthographicCamera(bottom=-4.78436802732, left=-4.78436802732, near=-2000.…"
      ]
     },
     "metadata": {},
     "output_type": "display_data"
    },
    {
     "name": "stdout",
     "output_type": "stream",
     "text": [
      "85 -1\n"
     ]
    },
    {
     "data": {
      "application/vnd.jupyter.widget-view+json": {
       "model_id": "cb30ff87cc214978a1b1659d3bca42f8",
       "version_major": 2,
       "version_minor": 0
      },
      "text/plain": [
       "Renderer(background='white', camera=OrthographicCamera(bottom=-3.2421475638, left=-3.2421475638, near=-2000.0,…"
      ]
     },
     "metadata": {},
     "output_type": "display_data"
    },
    {
     "name": "stdout",
     "output_type": "stream",
     "text": [
      "26 -1\n"
     ]
    },
    {
     "data": {
      "application/vnd.jupyter.widget-view+json": {
       "model_id": "dddb695b5a804816aeb38801502efdb7",
       "version_major": 2,
       "version_minor": 0
      },
      "text/plain": [
       "Renderer(background='white', camera=OrthographicCamera(bottom=-2.0626327867199996, left=-2.0626327867199996, n…"
      ]
     },
     "metadata": {},
     "output_type": "display_data"
    },
    {
     "name": "stdout",
     "output_type": "stream",
     "text": [
      "10 -1\n"
     ]
    },
    {
     "data": {
      "application/vnd.jupyter.widget-view+json": {
       "model_id": "95b1705537f145e78226d194694986ae",
       "version_major": 2,
       "version_minor": 0
      },
      "text/plain": [
       "Renderer(background='white', camera=OrthographicCamera(bottom=-2.4563684119199998, left=-2.4563684119199998, n…"
      ]
     },
     "metadata": {},
     "output_type": "display_data"
    },
    {
     "name": "stdout",
     "output_type": "stream",
     "text": [
      "12 1\n"
     ]
    },
    {
     "data": {
      "application/vnd.jupyter.widget-view+json": {
       "model_id": "6e8023ac8b04458e86190615fac9e29c",
       "version_major": 2,
       "version_minor": 0
      },
      "text/plain": [
       "Renderer(background='white', camera=OrthographicCamera(bottom=-2.05558026744, left=-2.05558026744, near=-2000.…"
      ]
     },
     "metadata": {},
     "output_type": "display_data"
    },
    {
     "name": "stdout",
     "output_type": "stream",
     "text": [
      "11 0\n"
     ]
    },
    {
     "data": {
      "application/vnd.jupyter.widget-view+json": {
       "model_id": "6d3036df300941d2bfe0680531d08d64",
       "version_major": 2,
       "version_minor": 0
      },
      "text/plain": [
       "Renderer(background='white', camera=OrthographicCamera(bottom=-1.0311643118399998, left=-1.0311643118399998, n…"
      ]
     },
     "metadata": {},
     "output_type": "display_data"
    },
    {
     "name": "stdout",
     "output_type": "stream",
     "text": [
      "2 1\n"
     ]
    },
    {
     "data": {
      "application/vnd.jupyter.widget-view+json": {
       "model_id": "36979c7ae3ea4fb28d4ce8cb4611d14b",
       "version_major": 2,
       "version_minor": 0
      },
      "text/plain": [
       "Renderer(background='white', camera=OrthographicCamera(bottom=-2.31182833152, left=-2.31182833152, near=-2000.…"
      ]
     },
     "metadata": {},
     "output_type": "display_data"
    },
    {
     "name": "stdout",
     "output_type": "stream",
     "text": [
      "18 1\n"
     ]
    },
    {
     "data": {
      "application/vnd.jupyter.widget-view+json": {
       "model_id": "4727aa901bd1403e96743b45bd23724d",
       "version_major": 2,
       "version_minor": 0
      },
      "text/plain": [
       "Renderer(background='white', camera=OrthographicCamera(bottom=-2.4544077762, left=-2.4544077762, near=-2000.0,…"
      ]
     },
     "metadata": {},
     "output_type": "display_data"
    },
    {
     "name": "stdout",
     "output_type": "stream",
     "text": [
      "40 1\n"
     ]
    },
    {
     "data": {
      "application/vnd.jupyter.widget-view+json": {
       "model_id": "380bc2be4b284e9f88c7eb3a2e212e1a",
       "version_major": 2,
       "version_minor": 0
      },
      "text/plain": [
       "Renderer(background='white', camera=OrthographicCamera(bottom=-2.26998221796, left=-2.26998221796, near=-2000.…"
      ]
     },
     "metadata": {},
     "output_type": "display_data"
    },
    {
     "name": "stdout",
     "output_type": "stream",
     "text": [
      "70 1\n"
     ]
    }
   ],
   "source": [
    "to_view = [27, 219, 89, 85, 26, 10, 12, 11, 2, 18, 40, 70]\n",
    "\n",
    "for ind in to_view:\n",
    "    view(RN.entries_list[ind].molecule,bonding_strategy=\"OpenBabelNN\")\n",
    "    print(ind,RN.entries_list[ind].charge)"
   ]
  },
  {
   "cell_type": "code",
   "execution_count": 10,
   "metadata": {},
   "outputs": [
    {
     "name": "stdout",
     "output_type": "stream",
     "text": [
      "0 H1 C1\n",
      "1 H1 C1\n",
      "2 H1 C1\n",
      "3 Li1 H1 C1 O1\n",
      "4 Li1 H1 C1 O1\n",
      "5 Li1 H1 C1 O1\n",
      "6 Li1 H1 C1 O2\n",
      "7 H1 C1 O1\n",
      "8 H1 C1 O1\n",
      "9 H1 C1 O1\n",
      "10 H2 C1\n",
      "11 H2 C1\n",
      "12 H2 C1\n",
      "13 Li1 H2 C1 O1\n",
      "14 Li1 H2 C1 O1\n",
      "15 Li1 H2 C1 O1\n",
      "16 H2 C1 O1\n",
      "17 H2 C1 O1\n",
      "18 H2 C1 O1\n",
      "19 Li1 C1 O1\n",
      "20 Li1 C1 O1\n",
      "21 Li1 C1 O2\n",
      "22 Li1 C1 O2\n",
      "23 Li1 C1 O2\n",
      "24 Li1 C1 O2\n",
      "25 Li1 C1 O2\n",
      "26 Li1 C1 O3\n",
      "27 Li1 C1 O3\n",
      "28 C1 O1\n",
      "29 C1 O1\n",
      "30 C1 O1\n",
      "31 C1 O2\n",
      "32 C1 O2\n",
      "33 C1 O2\n",
      "34 C1 O3\n",
      "35 C2\n",
      "36 C2\n",
      "37 C2\n",
      "38 H1 C2\n",
      "39 H1 C2\n",
      "40 H1 C2\n",
      "41 Li1 H1 C2 O1\n",
      "42 Li1 H1 C2 O1\n",
      "43 Li1 H1 C2 O1\n",
      "44 Li1 H1 C2 O1\n",
      "45 Li1 H1 C2 O2\n",
      "46 Li1 H1 C2 O2\n",
      "47 Li1 H1 C2 O2\n",
      "48 Li1 H1 C2 O2\n",
      "49 Li1 H1 C2 O2\n",
      "50 Li1 H1 C2 O2\n",
      "51 Li1 H1 C2 O2\n",
      "52 Li1 H1 C2 O2\n",
      "53 Li1 H1 C2 O3\n",
      "54 Li1 H1 C2 O3\n",
      "55 Li1 H1 C2 O3\n",
      "56 Li1 H1 C2 O3\n",
      "57 H1 C2 O1\n",
      "58 H1 C2 O1\n",
      "59 H1 C2 O1\n",
      "60 H1 C2 O1\n",
      "61 H1 C2 O2\n",
      "62 H1 C2 O2\n",
      "63 H1 C2 O2\n",
      "64 H1 C2 O3\n",
      "65 H2 C2\n",
      "66 H2 C2\n",
      "67 H2 C2\n",
      "68 H2 C2\n",
      "69 H2 C2\n",
      "70 H2 C2\n",
      "71 Li1 H2 C2 O1\n",
      "72 Li1 H2 C2 O1\n",
      "73 Li1 H2 C2 O1\n",
      "74 Li1 H2 C2 O1\n",
      "75 Li1 H2 C2 O1\n",
      "76 Li1 H2 C2 O2\n",
      "77 Li1 H2 C2 O2\n",
      "78 Li1 H2 C2 O2\n",
      "79 Li1 H2 C2 O2\n",
      "80 Li1 H2 C2 O2\n",
      "81 Li1 H2 C2 O2\n",
      "82 Li1 H2 C2 O2\n",
      "83 Li1 H2 C2 O2\n",
      "84 Li1 H2 C2 O2\n",
      "85 Li1 H2 C2 O3\n",
      "86 Li1 H2 C2 O3\n",
      "87 Li1 H2 C2 O3\n",
      "88 Li1 H2 C2 O3\n",
      "89 Li1 H2 C2 O3\n",
      "90 H2 C2 O1\n",
      "91 H2 C2 O1\n",
      "92 H2 C2 O1\n",
      "93 H2 C2 O1\n",
      "94 H2 C2 O1\n",
      "95 H2 C2 O1\n",
      "96 H2 C2 O2\n",
      "97 H2 C2 O2\n",
      "98 H2 C2 O2\n",
      "99 H2 C2 O2\n",
      "100 H2 C2 O2\n",
      "101 H2 C2 O3\n",
      "102 H2 C2 O3\n",
      "103 H3 C2\n",
      "104 H3 C2\n",
      "105 H3 C2\n",
      "106 Li1 H3 C2 O1\n",
      "107 Li1 H3 C2 O1\n",
      "108 Li1 H3 C2 O1\n",
      "109 Li1 H3 C2 O1\n",
      "110 Li1 H3 C2 O2\n",
      "111 Li1 H3 C2 O2\n",
      "112 Li1 H3 C2 O2\n",
      "113 Li1 H3 C2 O2\n",
      "114 H3 C2 O1\n",
      "115 H3 C2 O1\n",
      "116 H3 C2 O2\n",
      "117 H3 C2 O2\n",
      "118 H4 C2\n",
      "119 H4 C2\n",
      "120 H4 C2\n",
      "121 Li1 H4 C2 O1\n",
      "122 Li1 H4 C2 O1\n",
      "123 Li1 H4 C2 O2\n",
      "124 Li1 H4 C2 O2\n",
      "125 H4 C2 O2\n",
      "126 Li1 C2 O1\n",
      "127 Li1 C2 O1\n",
      "128 Li1 C2 O1\n",
      "129 Li1 C2 O2\n",
      "130 Li1 C2 O2\n",
      "131 Li1 C2 O3\n",
      "132 Li1 C2 O3\n",
      "133 Li1 C2 O3\n",
      "134 C2 O1\n",
      "135 C2 O1\n",
      "136 C2 O1\n",
      "137 C2 O1\n",
      "138 C2 O2\n",
      "139 C2 O2\n",
      "140 Li1 H1 C3 O2\n",
      "141 Li1 H1 C3 O2\n",
      "142 Li1 H1 C3 O2\n",
      "143 Li1 H1 C3 O2\n",
      "144 Li1 H1 C3 O2\n",
      "145 Li1 H1 C3 O2\n",
      "146 Li1 H1 C3 O3\n",
      "147 Li1 H1 C3 O3\n",
      "148 Li1 H1 C3 O3\n",
      "149 Li1 H1 C3 O3\n",
      "150 Li1 H1 C3 O3\n",
      "151 Li1 H1 C3 O3\n",
      "152 Li1 H1 C3 O3\n",
      "153 Li1 H1 C3 O3\n",
      "154 H1 C3 O1\n",
      "155 H1 C3 O1\n",
      "156 H1 C3 O1\n",
      "157 H1 C3 O2\n",
      "158 H1 C3 O2\n",
      "159 H1 C3 O2\n",
      "160 H1 C3 O2\n",
      "161 H1 C3 O2\n",
      "162 H1 C3 O2\n",
      "163 H1 C3 O2\n",
      "164 H1 C3 O3\n",
      "165 H1 C3 O3\n",
      "166 H1 C3 O3\n",
      "167 H1 C3 O3\n",
      "168 Li1 H2 C3 O2\n",
      "169 Li1 H2 C3 O2\n",
      "170 Li1 H2 C3 O2\n",
      "171 Li1 H2 C3 O2\n",
      "172 Li1 H2 C3 O2\n",
      "173 Li1 H2 C3 O2\n",
      "174 Li1 H2 C3 O2\n",
      "175 Li1 H2 C3 O3\n",
      "176 Li1 H2 C3 O3\n",
      "177 Li1 H2 C3 O3\n",
      "178 Li1 H2 C3 O3\n",
      "179 Li1 H2 C3 O3\n",
      "180 Li1 H2 C3 O3\n",
      "181 H2 C3 O2\n",
      "182 H2 C3 O2\n",
      "183 H2 C3 O2\n",
      "184 H2 C3 O2\n",
      "185 H2 C3 O2\n",
      "186 H2 C3 O2\n",
      "187 H2 C3 O3\n",
      "188 H2 C3 O3\n",
      "189 H2 C3 O3\n",
      "190 H2 C3 O3\n",
      "191 H2 C3 O3\n",
      "192 Li1 H3 C3 O2\n",
      "193 Li1 H3 C3 O2\n",
      "194 Li1 H3 C3 O2\n",
      "195 Li1 H3 C3 O2\n",
      "196 Li1 H3 C3 O3\n",
      "197 Li1 H3 C3 O3\n",
      "198 Li1 H3 C3 O3\n",
      "199 Li1 H3 C3 O3\n",
      "200 Li1 H3 C3 O3\n",
      "201 Li1 H3 C3 O3\n",
      "202 H3 C3 O2\n",
      "203 H3 C3 O2\n",
      "204 H3 C3 O2\n",
      "205 H3 C3 O2\n",
      "206 H3 C3 O2\n",
      "207 H3 C3 O3\n",
      "208 H3 C3 O3\n",
      "209 H3 C3 O3\n",
      "210 H3 C3 O3\n",
      "211 Li1 H4 C3 O2\n",
      "212 Li1 H4 C3 O2\n",
      "213 Li1 H4 C3 O2\n",
      "214 Li1 H4 C3 O2\n",
      "215 Li1 H4 C3 O3\n",
      "216 Li1 H4 C3 O3\n",
      "217 Li1 H4 C3 O3\n",
      "218 Li1 H4 C3 O3\n",
      "219 Li1 H4 C3 O3\n",
      "220 Li1 H4 C3 O3\n",
      "221 Li1 H4 C3 O3\n",
      "222 H4 C3 O2\n",
      "223 H4 C3 O2\n",
      "224 H4 C3 O2\n",
      "225 H4 C3 O2\n",
      "226 H4 C3 O3\n",
      "227 H4 C3 O3\n",
      "228 H4 C3 O3\n",
      "229 H4 C3 O3\n",
      "230 H4 C3 O3\n",
      "231 Li1 C3 O2\n",
      "232 Li1 C3 O3\n",
      "233 Li1 C3 O3\n",
      "234 Li1 C3 O3\n",
      "235 C3 O1\n",
      "236 C3 O1\n",
      "237 C3 O2\n",
      "238 C3 O2\n",
      "239 C3 O2\n",
      "240 C3 O2\n",
      "241 C3 O2\n",
      "242 C3 O3\n",
      "243 C3 O3\n",
      "244 C3 O3\n",
      "245 Li2 H4 C4 O6\n",
      "246 Li2 H4 C4 O6\n",
      "247 Li2 H4 C4 O6\n",
      "248 Li2 H8 C6 O6\n",
      "249 Li1 O1\n",
      "250 Li1 O1\n",
      "251 Li1 O1\n"
     ]
    }
   ],
   "source": [
    "for ii,entry in enumerate(RN.entries_list):\n",
    "    print(ii,entry.molecule.formula)\n",
    "    "
   ]
  },
  {
   "cell_type": "code",
   "execution_count": 14,
   "metadata": {},
   "outputs": [
    {
     "data": {
      "application/vnd.jupyter.widget-view+json": {
       "model_id": "af1f04a728a64fb2b8e57461c574f1ab",
       "version_major": 2,
       "version_minor": 0
      },
      "text/plain": [
       "Renderer(background='white', camera=OrthographicCamera(bottom=-1.2793967673599997, left=-1.2793967673599997, n…"
      ]
     },
     "metadata": {},
     "output_type": "display_data"
    },
    {
     "data": {
      "text/plain": [
       "0"
      ]
     },
     "execution_count": 14,
     "metadata": {},
     "output_type": "execute_result"
    }
   ],
   "source": [
    "ind=29\n",
    "view(RN.entries_list[ind].molecule,bonding_strategy=\"OpenBabelNN\")\n",
    "RN.entries_list[ind].charge"
   ]
  },
  {
   "cell_type": "code",
   "execution_count": 16,
   "metadata": {},
   "outputs": [
    {
     "data": {
      "application/vnd.jupyter.widget-view+json": {
       "model_id": "08e8718a40954957831864d21a3f8602",
       "version_major": 2,
       "version_minor": 0
      },
      "text/plain": [
       "Renderer(background='white', camera=OrthographicCamera(bottom=-11.374637609879999, left=-11.374637609879999, n…"
      ]
     },
     "metadata": {},
     "output_type": "display_data"
    },
    {
     "data": {
      "text/plain": [
       "-1"
      ]
     },
     "execution_count": 16,
     "metadata": {},
     "output_type": "execute_result"
    }
   ],
   "source": [
    "ind=245\n",
    "view(RN.entries_list[ind].molecule,bonding_strategy=\"OpenBabelNN\")\n",
    "RN.entries_list[ind].charge"
   ]
  },
  {
   "cell_type": "code",
   "execution_count": null,
   "metadata": {},
   "outputs": [],
   "source": []
  }
 ],
 "metadata": {
  "kernelspec": {
   "display_name": "Python 3",
   "language": "python",
   "name": "python3"
  },
  "language_info": {
   "codemirror_mode": {
    "name": "ipython",
    "version": 3
   },
   "file_extension": ".py",
   "mimetype": "text/x-python",
   "name": "python",
   "nbconvert_exporter": "python",
   "pygments_lexer": "ipython3",
   "version": "3.7.3"
  }
 },
 "nbformat": 4,
 "nbformat_minor": 2
}
