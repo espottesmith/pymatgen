{
 "cells": [
  {
   "cell_type": "code",
   "execution_count": 1,
   "metadata": {},
   "outputs": [],
   "source": [
    "import os\n",
    "import unittest\n",
    "import time\n",
    "from pymatgen.core.structure import Molecule\n",
    "from pymatgen.analysis.graphs import MoleculeGraph\n",
    "from pymatgen.analysis.local_env import OpenBabelNN\n",
    "from pymatgen.util.testing import PymatgenTest\n",
    "from pymatgen.analysis.reaction_network import ReactionNetwork\n",
    "from pymatgen.entries.mol_entry import MoleculeEntry\n",
    "from monty.serialization import loadfn\n",
    "import openbabel as ob"
   ]
  },
  {
   "cell_type": "code",
   "execution_count": 2,
   "metadata": {},
   "outputs": [],
   "source": [
    "from crystal_toolkit import view"
   ]
  },
  {
   "cell_type": "code",
   "execution_count": 3,
   "metadata": {},
   "outputs": [],
   "source": [
    "LiEC_entries = []\n",
    "entries = loadfn(\"/Users/samuelblau/pymatgen/test_files/reaction_network_files/LiEC_entries.json\")\n",
    "for entry in entries:\n",
    "    mol = entry[\"output\"][\"optimized_molecule\"]\n",
    "    E = float(entry[\"output\"][\"final_energy\"])\n",
    "    H = float(entry[\"output\"][\"enthalpy\"])\n",
    "    S = float(entry[\"output\"][\"entropy\"])\n",
    "    mol_entry = MoleculeEntry(molecule=mol,energy=E,enthalpy=H,entropy=S,entry_id=entry[\"task_id\"])\n",
    "    LiEC_entries.append(mol_entry)"
   ]
  },
  {
   "cell_type": "code",
   "execution_count": 4,
   "metadata": {},
   "outputs": [
    {
     "name": "stdout",
     "output_type": "stream",
     "text": [
      "308 total entries\n",
      "WARNING: Free energy lower but electronic energy higher!\n",
      "WARNING: Free energy lower but electronic energy higher!\n",
      "WARNING: Free energy lower but electronic energy higher!\n",
      "WARNING: Free energy lower but electronic energy higher!\n",
      "WARNING: Free energy lower but electronic energy higher!\n",
      "WARNING: Free energy lower but electronic energy higher!\n",
      "WARNING: Free energy lower but electronic energy higher!\n",
      "WARNING: Free energy lower but electronic energy higher!\n",
      "236 unique entries\n",
      "Before reactions\n",
      "236 nodes\n",
      "0 edges\n",
      "\n",
      "After 1e redox\n",
      "345 nodes\n",
      "218 edges\n",
      "\n",
      "After intramol bond change\n",
      "378 nodes\n",
      "284 edges\n",
      "\n",
      "After single bond breakage\n",
      "838 nodes\n",
      "1661 edges\n",
      "\n"
     ]
    }
   ],
   "source": [
    "RN = ReactionNetwork(LiEC_entries)\n",
    "assert RN.entries_list[208].free_energy == -9522.907225166065\n",
    "assert RN.entries_list[208] == RN.entries[\"C3 H4 Li1 O3\"][11][0][0]\n",
    "assert len(RN.entries_list) == 236"
   ]
  },
  {
   "cell_type": "code",
   "execution_count": 5,
   "metadata": {},
   "outputs": [
    {
     "data": {
      "application/vnd.jupyter.widget-view+json": {
       "model_id": "96ad168838694ae1a004ac04491bf011",
       "version_major": 2,
       "version_minor": 0
      },
      "text/plain": [
       "Renderer(background='white', camera=OrthographicCamera(bottom=-6.7520014130399995, left=-6.7520014130399995, n…"
      ]
     },
     "metadata": {},
     "output_type": "display_data"
    }
   ],
   "source": [
    "view(RN.entries_list[208].molecule,bonding_strategy=\"OpenBabelNN\")"
   ]
  },
  {
   "cell_type": "code",
   "execution_count": 7,
   "metadata": {},
   "outputs": [
    {
     "data": {
      "application/vnd.jupyter.widget-view+json": {
       "model_id": "92e201f72ac9402c89a30a2839b1f8c9",
       "version_major": 2,
       "version_minor": 0
      },
      "text/plain": [
       "Renderer(background='white', camera=OrthographicCamera(bottom=-5.164007155319999, left=-5.164007155319999, nea…"
      ]
     },
     "metadata": {},
     "output_type": "display_data"
    }
   ],
   "source": [
    "view(RN.entries[\"C3 H4 Li1 O3\"][12][0][0].molecule,bonding_strategy=\"OpenBabelNN\")"
   ]
  },
  {
   "cell_type": "code",
   "execution_count": 13,
   "metadata": {},
   "outputs": [
    {
     "data": {
      "text/plain": [
       "209"
      ]
     },
     "execution_count": 13,
     "metadata": {},
     "output_type": "execute_result"
    }
   ],
   "source": [
    "RN.entries[\"C3 H4 Li1 O3\"][12][0][0].parameters[\"ind\"]"
   ]
  },
  {
   "cell_type": "code",
   "execution_count": null,
   "metadata": {},
   "outputs": [],
   "source": []
  }
 ],
 "metadata": {
  "kernelspec": {
   "display_name": "Python 3",
   "language": "python",
   "name": "python3"
  },
  "language_info": {
   "codemirror_mode": {
    "name": "ipython",
    "version": 3
   },
   "file_extension": ".py",
   "mimetype": "text/x-python",
   "name": "python",
   "nbconvert_exporter": "python",
   "pygments_lexer": "ipython3",
   "version": "3.7.3"
  }
 },
 "nbformat": 4,
 "nbformat_minor": 2
}
