{
 "cells": [
  {
   "cell_type": "code",
   "execution_count": 1,
   "metadata": {},
   "outputs": [],
   "source": [
    "import os\n",
    "import unittest\n",
    "import time\n",
    "from pymatgen.core.structure import Molecule\n",
    "from pymatgen.analysis.graphs import MoleculeGraph\n",
    "from pymatgen.analysis.local_env import OpenBabelNN\n",
    "from pymatgen.util.testing import PymatgenTest\n",
    "from pymatgen.analysis.reaction_network import ReactionNetwork\n",
    "from pymatgen.entries.mol_entry import MoleculeEntry\n",
    "from monty.serialization import loadfn\n",
    "import openbabel as ob"
   ]
  },
  {
   "cell_type": "code",
   "execution_count": 2,
   "metadata": {},
   "outputs": [],
   "source": [
    "from crystal_toolkit import view"
   ]
  },
  {
   "cell_type": "code",
   "execution_count": 3,
   "metadata": {},
   "outputs": [],
   "source": [
    "LiEC_entries = []\n",
    "entries = loadfn(\"/Users/samuelblau/pymatgen/test_files/reaction_network_files/LiEC_entries.json\")\n",
    "for entry in entries:\n",
    "    mol = entry[\"output\"][\"optimized_molecule\"]\n",
    "    E = float(entry[\"output\"][\"final_energy\"])\n",
    "    H = float(entry[\"output\"][\"enthalpy\"])\n",
    "    S = float(entry[\"output\"][\"entropy\"])\n",
    "    mol_entry = MoleculeEntry(molecule=mol,energy=E,enthalpy=H,entropy=S,entry_id=entry[\"task_id\"])\n",
    "    LiEC_entries.append(mol_entry)"
   ]
  },
  {
   "cell_type": "code",
   "execution_count": 4,
   "metadata": {},
   "outputs": [
    {
     "name": "stdout",
     "output_type": "stream",
     "text": [
      "308 total entries\n",
      "WARNING: Free energy lower but electronic energy higher!\n",
      "WARNING: Free energy lower but electronic energy higher!\n",
      "WARNING: Free energy lower but electronic energy higher!\n",
      "WARNING: Free energy lower but electronic energy higher!\n",
      "WARNING: Free energy lower but electronic energy higher!\n",
      "WARNING: Free energy lower but electronic energy higher!\n",
      "WARNING: Free energy lower but electronic energy higher!\n",
      "WARNING: Free energy lower but electronic energy higher!\n",
      "236 unique entries\n",
      "Before reactions\n",
      "236 nodes\n",
      "0 edges\n",
      "\n",
      "After 1e redox\n",
      "345 nodes\n",
      "218 edges\n",
      "\n",
      "After intramol bond change\n",
      "378 nodes\n",
      "284 edges\n",
      "\n",
      "After single bond breakage\n",
      "838 nodes\n",
      "1661 edges\n",
      "\n"
     ]
    }
   ],
   "source": [
    "RN = ReactionNetwork(LiEC_entries)\n",
    "assert RN.entries_list[208].free_energy == -9522.907225166065\n",
    "assert RN.entries_list[208] == RN.entries[\"C3 H4 Li1 O3\"][11][0][0]\n",
    "assert len(RN.entries_list) == 236"
   ]
  },
  {
   "cell_type": "code",
   "execution_count": 50,
   "metadata": {},
   "outputs": [
    {
     "data": {
      "application/vnd.jupyter.widget-view+json": {
       "model_id": "924d955e6d3248ca88d06d897fdb76ad",
       "version_major": 2,
       "version_minor": 0
      },
      "text/plain": [
       "Renderer(background='white', camera=OrthographicCamera(bottom=-5.6984556159599995, left=-5.6984556159599995, n…"
      ]
     },
     "metadata": {},
     "output_type": "display_data"
    },
    {
     "data": {
      "text/plain": [
       "1"
      ]
     },
     "execution_count": 50,
     "metadata": {},
     "output_type": "execute_result"
    }
   ],
   "source": [
    "view(RN.entries_list[210].molecule,bonding_strategy=\"OpenBabelNN\")\n",
    "RN.entries_list[210].charge"
   ]
  },
  {
   "cell_type": "code",
   "execution_count": 52,
   "metadata": {},
   "outputs": [
    {
     "name": "stdout",
     "output_type": "stream",
     "text": [
      "209,210\n",
      "rxn_type : one_electron_redox\n",
      "bipartite : 1\n",
      "energy : 0.07843445247800673\n",
      "free_energy : 2.169687602419799\n",
      "\n"
     ]
    }
   ],
   "source": [
    "for neighbor in list(RN.graph.neighbors(210)):\n",
    "    print(neighbor)\n",
    "    for key in RN.graph.node[neighbor]:\n",
    "        print(key,\":\",RN.graph.node[neighbor][key])\n",
    "    print()"
   ]
  },
  {
   "cell_type": "code",
   "execution_count": 53,
   "metadata": {},
   "outputs": [
    {
     "data": {
      "application/vnd.jupyter.widget-view+json": {
       "model_id": "8c09a18438594961b1205f9d402e664a",
       "version_major": 2,
       "version_minor": 0
      },
      "text/plain": [
       "Renderer(background='white', camera=OrthographicCamera(bottom=-5.164007155319999, left=-5.164007155319999, nea…"
      ]
     },
     "metadata": {},
     "output_type": "display_data"
    },
    {
     "data": {
      "text/plain": [
       "0"
      ]
     },
     "execution_count": 53,
     "metadata": {},
     "output_type": "execute_result"
    }
   ],
   "source": [
    "view(RN.entries_list[209].molecule,bonding_strategy=\"OpenBabelNN\")\n",
    "RN.entries_list[209].charge"
   ]
  },
  {
   "cell_type": "code",
   "execution_count": 54,
   "metadata": {},
   "outputs": [
    {
     "name": "stdout",
     "output_type": "stream",
     "text": [
      "209,210\n",
      "rxn_type : one_electron_redox\n",
      "bipartite : 1\n",
      "energy : 0.07843445247800673\n",
      "free_energy : 2.169687602419799\n",
      "\n",
      "208,209\n",
      "rxn_type : intramol_single_bond_change\n",
      "bipartite : 1\n",
      "energy : 0.03746218086303088\n",
      "free_energy : 1.1988151561727136\n",
      "\n"
     ]
    }
   ],
   "source": [
    "for neighbor in list(RN.graph.neighbors(209)):\n",
    "    print(neighbor)\n",
    "    for key in RN.graph.node[neighbor]:\n",
    "        print(key,\":\",RN.graph.node[neighbor][key])\n",
    "    print()"
   ]
  },
  {
   "cell_type": "code",
   "execution_count": 55,
   "metadata": {},
   "outputs": [
    {
     "data": {
      "application/vnd.jupyter.widget-view+json": {
       "model_id": "0001c98c426744c281c6a0f2685f86e8",
       "version_major": 2,
       "version_minor": 0
      },
      "text/plain": [
       "Renderer(background='white', camera=OrthographicCamera(bottom=-6.7520014130399995, left=-6.7520014130399995, n…"
      ]
     },
     "metadata": {},
     "output_type": "display_data"
    },
    {
     "data": {
      "text/plain": [
       "0"
      ]
     },
     "execution_count": 55,
     "metadata": {},
     "output_type": "execute_result"
    }
   ],
   "source": [
    "view(RN.entries_list[208].molecule,bonding_strategy=\"OpenBabelNN\")\n",
    "RN.entries_list[208].charge"
   ]
  },
  {
   "cell_type": "code",
   "execution_count": 59,
   "metadata": {
    "scrolled": false
   },
   "outputs": [
    {
     "name": "stdout",
     "output_type": "stream",
     "text": [
      "207,208\n",
      "rxn_type : one_electron_redox\n",
      "bipartite : 1\n",
      "energy : 0.10700326433396867\n",
      "free_energy : 2.9053784799398272\n",
      "\n",
      "208,209\n",
      "rxn_type : intramol_single_bond_change\n",
      "bipartite : 1\n",
      "energy : 0.03746218086303088\n",
      "free_energy : 1.1988151561727136\n",
      "\n",
      "208,26+120\n",
      "rxn_type : single_bond_breakage\n",
      "bipartite : 1\n",
      "energy : 0.12262937153201392\n",
      "free_energy : 2.748628039684263\n",
      "\n",
      "208,27+119\n",
      "rxn_type : single_bond_breakage\n",
      "bipartite : 1\n",
      "energy : 0.03514357447528482\n",
      "free_energy : 0.36044270861384575\n",
      "\n",
      "208,12+85\n",
      "rxn_type : single_bond_breakage\n",
      "bipartite : 1\n",
      "energy : 0.32784811307334394\n",
      "free_energy : 8.187117081153701\n",
      "\n",
      "208,11+87\n",
      "rxn_type : single_bond_breakage\n",
      "bipartite : 1\n",
      "energy : 0.18139776248142425\n",
      "free_energy : 4.205527752190392\n",
      "\n",
      "208,10+89\n",
      "rxn_type : single_bond_breakage\n",
      "bipartite : 1\n",
      "energy : 0.21144497289822084\n",
      "free_energy : 5.007263512266945\n",
      "\n"
     ]
    }
   ],
   "source": [
    "for neighbor in list(RN.graph.neighbors(208)):\n",
    "    print(neighbor)\n",
    "    for key in RN.graph.node[neighbor]:\n",
    "        print(key,\":\",RN.graph.node[neighbor][key])\n",
    "    print()"
   ]
  },
  {
   "cell_type": "code",
   "execution_count": 56,
   "metadata": {},
   "outputs": [
    {
     "data": {
      "application/vnd.jupyter.widget-view+json": {
       "model_id": "134f39ca0b2a4ddb801fe792ade74f79",
       "version_major": 2,
       "version_minor": 0
      },
      "text/plain": [
       "Renderer(background='white', camera=OrthographicCamera(bottom=-7.18941198384, left=-7.18941198384, near=-2000.…"
      ]
     },
     "metadata": {},
     "output_type": "display_data"
    },
    {
     "data": {
      "text/plain": [
       "-1"
      ]
     },
     "execution_count": 56,
     "metadata": {},
     "output_type": "execute_result"
    }
   ],
   "source": [
    "view(RN.entries_list[207].molecule,bonding_strategy=\"OpenBabelNN\")\n",
    "RN.entries_list[207].charge"
   ]
  },
  {
   "cell_type": "code",
   "execution_count": 47,
   "metadata": {},
   "outputs": [
    {
     "name": "stdout",
     "output_type": "stream",
     "text": [
      "207,208\n",
      "rxn_type : one_electron_redox\n",
      "bipartite : 1\n",
      "energy : 0.10700326433396867\n",
      "free_energy : 2.9053784799398272\n",
      "\n",
      "207,10+87\n",
      "rxn_type : single_bond_breakage\n",
      "bipartite : 1\n",
      "energy : 0.15015395331317904\n",
      "free_energy : 3.330511119633229\n",
      "\n",
      "207,11+85\n",
      "rxn_type : single_bond_breakage\n",
      "bipartite : 1\n",
      "energy : 0.19501205221041573\n",
      "free_energy : 4.5662127215728106\n",
      "\n",
      "207,27+118\n",
      "rxn_type : single_bond_breakage\n",
      "bipartite : 1\n",
      "energy : 0.118908146099443\n",
      "free_energy : 2.4039168018844066\n",
      "\n",
      "207,26+119\n",
      "rxn_type : single_bond_breakage\n",
      "bipartite : 1\n",
      "energy : -0.039454803968737906\n",
      "free_energy : -1.6112176416409056\n",
      "\n"
     ]
    }
   ],
   "source": [
    "for neighbor in list(RN.graph.neighbors(207)):\n",
    "    print(neighbor)\n",
    "    for key in RN.graph.node[neighbor]:\n",
    "        print(key,\":\",RN.graph.node[neighbor][key])\n",
    "    print()"
   ]
  },
  {
   "cell_type": "code",
   "execution_count": 61,
   "metadata": {},
   "outputs": [
    {
     "data": {
      "application/vnd.jupyter.widget-view+json": {
       "model_id": "9d5d863d9333425b8a041bb87a2eb9a4",
       "version_major": 2,
       "version_minor": 0
      },
      "text/plain": [
       "Renderer(background='white', camera=OrthographicCamera(bottom=-3.2421475638, left=-3.2421475638, near=-2000.0,…"
      ]
     },
     "metadata": {},
     "output_type": "display_data"
    },
    {
     "data": {
      "text/plain": [
       "-1"
      ]
     },
     "execution_count": 61,
     "metadata": {},
     "output_type": "execute_result"
    }
   ],
   "source": [
    "view(RN.entries_list[26].molecule,bonding_strategy=\"OpenBabelNN\")\n",
    "RN.entries_list[26].charge"
   ]
  },
  {
   "cell_type": "code",
   "execution_count": 58,
   "metadata": {},
   "outputs": [
    {
     "data": {
      "application/vnd.jupyter.widget-view+json": {
       "model_id": "6613f496f0a24e809093ea38ef62ba26",
       "version_major": 2,
       "version_minor": 0
      },
      "text/plain": [
       "Renderer(background='white', camera=OrthographicCamera(bottom=-3.2333264612400003, left=-3.2333264612400003, n…"
      ]
     },
     "metadata": {},
     "output_type": "display_data"
    },
    {
     "data": {
      "text/plain": [
       "0"
      ]
     },
     "execution_count": 58,
     "metadata": {},
     "output_type": "execute_result"
    }
   ],
   "source": [
    "view(RN.entries_list[119].molecule,bonding_strategy=\"OpenBabelNN\")\n",
    "RN.entries_list[119].charge"
   ]
  },
  {
   "cell_type": "code",
   "execution_count": null,
   "metadata": {},
   "outputs": [],
   "source": []
  },
  {
   "cell_type": "code",
   "execution_count": null,
   "metadata": {},
   "outputs": [],
   "source": []
  }
 ],
 "metadata": {
  "kernelspec": {
   "display_name": "Python 3",
   "language": "python",
   "name": "python3"
  },
  "language_info": {
   "codemirror_mode": {
    "name": "ipython",
    "version": 3
   },
   "file_extension": ".py",
   "mimetype": "text/x-python",
   "name": "python",
   "nbconvert_exporter": "python",
   "pygments_lexer": "ipython3",
   "version": "3.7.3"
  }
 },
 "nbformat": 4,
 "nbformat_minor": 2
}
